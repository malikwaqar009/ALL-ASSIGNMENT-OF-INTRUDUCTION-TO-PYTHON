{
 "cells": [
  {
   "cell_type": "code",
   "execution_count": 25,
   "id": "75c417b5",
   "metadata": {},
   "outputs": [
    {
     "name": "stdout",
     "output_type": "stream",
     "text": [
      "Hey Bro done! 15\n",
      "Hey Bro done! 30\n",
      "Hey Bro done! 45\n",
      "Hey Bro done! 60\n",
      "Hey Bro done! 75\n",
      "Hey Bro done! 90\n",
      "Hey Bro done! 105\n",
      "Hey Bro done! 120\n",
      "Hey Bro done! 135\n",
      "Hey Bro done! 150\n"
     ]
    }
   ],
   "source": [
    "for i in range(10,151):      #151 is used because of range i know given value is 150\n",
    "\n",
    "    if i%15==0 and i%5==0:              #assignment #1 intruduction to python in\n",
    "\n",
    "        print(\"Hey Bro done!\",i)"
   ]
  },
  {
   "cell_type": "code",
   "execution_count": 18,
   "id": "f2f79c8d",
   "metadata": {},
   "outputs": [
    {
     "name": "stdout",
     "output_type": "stream",
     "text": [
      " 2  Hey Bro done!\n",
      " 3  Hey Bro done!\n",
      " 5  Hey Bro done!\n",
      " 7  Hey Bro done!\n",
      " 11  Hey Bro done!\n",
      " 13  Hey Bro done!\n",
      " 17  Hey Bro done!\n",
      " 19  Hey Bro done!\n",
      " 23  Hey Bro done!\n",
      " 29  Hey Bro done!\n",
      " 31  Hey Bro done!\n",
      " 37  Hey Bro done!\n",
      " 41  Hey Bro done!\n",
      " 43  Hey Bro done!\n",
      " 47  Hey Bro done!\n",
      " 53  Hey Bro done!\n",
      " 59  Hey Bro done!\n",
      " 61  Hey Bro done!\n",
      " 67  Hey Bro done!\n",
      " 71  Hey Bro done!\n",
      " 73  Hey Bro done!\n",
      " 79  Hey Bro done!\n",
      " 83  Hey Bro done!\n",
      " 89  Hey Bro done!\n",
      " 97  Hey Bro done!\n"
     ]
    }
   ],
   "source": [
    "for Number in range (1, 101):\n",
    "    count = 0\n",
    "    for i in range(2, (Number//2 + 1)):\n",
    "        if(Number % i == 0):\n",
    "            count = count + 1            \n",
    "            break\n",
    "\n",
    "    if (count == 0 and Number != 1):\n",
    "        print(\" %d\" %Number, end = '  ')\n",
    "        print(\"Hey Bro done!\")"
   ]
  },
  {
   "cell_type": "code",
   "execution_count": null,
   "id": "99599d7b",
   "metadata": {},
   "outputs": [],
   "source": []
  }
 ],
 "metadata": {
  "kernelspec": {
   "display_name": "Python 3 (ipykernel)",
   "language": "python",
   "name": "python3"
  },
  "language_info": {
   "codemirror_mode": {
    "name": "ipython",
    "version": 3
   },
   "file_extension": ".py",
   "mimetype": "text/x-python",
   "name": "python",
   "nbconvert_exporter": "python",
   "pygments_lexer": "ipython3",
   "version": "3.9.13"
  }
 },
 "nbformat": 4,
 "nbformat_minor": 5
}
